{
 "cells": [
  {
   "cell_type": "code",
   "execution_count": 1,
   "metadata": {},
   "outputs": [],
   "source": [
    "import numpy as np\n",
    "import matplotlib.pyplot as plt\n",
    "import os\n",
    "import cv2\n",
    "from tqdm import tqdm\n",
    "import random\n",
    "\n",
    "\n",
    "TRAIN_DIR = \"C:\\\\Users\\\\onuro\\\\Desktop\\\\Train_2\"\n",
    "TEST_DIR = \"C:\\\\Users\\\\onuro\\\\Desktop\\\\Test_2\"\n",
    "CATEGORIES = [\"Train_Cat\", \"Train_Dog\"]\n",
    "CATEGORIES_2 = [\"Test_Cat\", \"Test_Dog\"]\n",
    "IMG_SIZE=375\n",
    "\n",
    "for category in CATEGORIES:  \n",
    "    path = os.path.join(TRAIN_DIR,category)  \n",
    "    for img in os.listdir(path):  # iterate over each image per dogs and cats\n",
    "        img_array = cv2.imread(os.path.join(path,img) ,cv2.IMREAD_GRAYSCALE) \n",
    "        \n",
    "        break  # we just want one for now so break\n",
    "    break  #...and one more!\n",
    "    \n",
    "for category_2 in CATEGORIES_2:  # do dogs and cats\n",
    "    path = os.path.join(TEST_DIR,category_2)  # create path to dogs and cats\n",
    "    for img in os.listdir(path):  # iterate over each image per dogs and cats\n",
    "        img_array = cv2.imread(os.path.join(path,img) ,cv2.IMREAD_GRAYSCALE)  # convert to array\n",
    "\n",
    "        break  # we just want one for now so break\n",
    "    break  #...and one more!\n",
    "\n",
    "\n",
    "\n",
    "cat_dog = 'dogsvscats-{}-{}.model'.format(0.01, '2conv-basic') # just so we remember which saved model is which, sizes must match"
   ]
  },
  {
   "cell_type": "code",
   "execution_count": 2,
   "metadata": {},
   "outputs": [],
   "source": [
    "def label_img(img):\n",
    "    word_label = img.split('.')[-3]\n",
    "    # conversion to one-hot array [cat,dog]\n",
    "    #                            [much cat, no dog]\n",
    "    if word_label == 'cat': return 1\n",
    "    #                             [no cat, very doggo]\n",
    "    elif word_label == 'dog': return -1"
   ]
  },
  {
   "cell_type": "code",
   "execution_count": 3,
   "metadata": {},
   "outputs": [
    {
     "name": "stderr",
     "output_type": "stream",
     "text": [
      "100%|██████████| 10119/10119 [00:38<00:00, 261.11it/s]\n",
      "100%|██████████| 10120/10120 [00:59<00:00, 169.53it/s]\n"
     ]
    },
    {
     "name": "stdout",
     "output_type": "stream",
     "text": [
      "20239\n"
     ]
    }
   ],
   "source": [
    "def create_training_data():\n",
    "    training_data = []\n",
    "    for category in CATEGORIES:  # do dogs and cats\n",
    "        \n",
    "        path = os.path.join(TRAIN_DIR,category)  # create path to dogs and cats\n",
    "        class_num = CATEGORIES.index(category)  # get the classification  (-1 or a 1). -1=dog 1=cat\n",
    "        for img in tqdm(os.listdir(path)):  # iterate over each image per dogs and cats\n",
    "            label = label_img(img)\n",
    "            try:    \n",
    "                img_array = cv2.imread(os.path.join(path,img) ,cv2.IMREAD_GRAYSCALE)  # convert to array\n",
    "                training_data.append([np.array(img_array), np.array(class_num)])  # add this to our training_data\n",
    "            except Exception as e:  # in the interest in keeping the output clean...\n",
    "                pass\n",
    "    random.shuffle(training_data)\n",
    "    np.save('train_data.npy', training_data)   \n",
    "    return training_data\n",
    "    \n",
    "train_data=create_training_data()\n",
    "\n",
    "print(len(train_data))"
   ]
  },
  {
   "cell_type": "code",
   "execution_count": 4,
   "metadata": {},
   "outputs": [
    {
     "name": "stderr",
     "output_type": "stream",
     "text": [
      "100%|██████████| 3000/3000 [00:17<00:00, 175.26it/s]\n",
      "100%|██████████| 3000/3000 [00:17<00:00, 173.71it/s]\n"
     ]
    },
    {
     "name": "stdout",
     "output_type": "stream",
     "text": [
      "6000\n"
     ]
    }
   ],
   "source": [
    "def create_test_data():\n",
    "    testing_data = []\n",
    "    for category_2 in CATEGORIES_2:       \n",
    "        path = os.path.join(TEST_DIR,category_2)\n",
    "        class_num=CATEGORIES_2.index(category_2)\n",
    "        \n",
    "        for img in tqdm(os.listdir(path)):\n",
    "            label = label_img(img)\n",
    "            \n",
    "            try:\n",
    "                img_array = cv2.imread(os.path.join(path,img), cv2.IMREAD_GRAYSCALE)\n",
    "                testing_data.append([np.array(img_array), class_num])        \n",
    "            except Exception as e:\n",
    "                pass\n",
    "            \n",
    "    random.shuffle(testing_data) #karistirir\n",
    "    np.save('test_data.npy', testing_data)    \n",
    "    return testing_data   \n",
    "test_data=create_test_data()\n",
    "\n",
    "print(len(test_data))\n"
   ]
  },
  {
   "cell_type": "code",
   "execution_count": 8,
   "metadata": {},
   "outputs": [
    {
     "name": "stdout",
     "output_type": "stream",
     "text": [
      "okey\n"
     ]
    }
   ],
   "source": [
    "import tflearn\n",
    "from tflearn.layers.conv import conv_2d, max_pool_2d\n",
    "from tflearn.layers.core import input_data, dropout, fully_connected\n",
    "from tflearn.layers.estimator import regression\n",
    "import tensorflow as tf\n",
    "tf.reset_default_graph()\n",
    "\n",
    "network = input_data(shape=[None, IMG_SIZE, IMG_SIZE, 1], name='input')\n",
    "\n",
    "network = conv_2d(network, 16, 5,  activation='tanh')\n",
    "network = max_pool_2d(network, 5)\n",
    "\n",
    "network = conv_2d(network, 32, 5,   activation='tanh')\n",
    "network= max_pool_2d(network, 5)\n",
    "\n",
    "network = conv_2d(network, 64, 5,   activation='relu')\n",
    "network = dropout(network, 0.8)\n",
    "\n",
    "network = conv_2d(network, 128, 5,   activation='relu')\n",
    "network = max_pool_2d(network, 5)\n",
    "\n",
    "network = fully_connected(network, 1024, activation='relu')\n",
    "network = dropout(network, 0.2)\n",
    "network = fully_connected(network, 1, activation='softmax')\n",
    "\n",
    "network = regression(network, optimizer='adam', learning_rate=1e-3,\n",
    "                     loss='mean_square', name='target')\n",
    "\n",
    "model = tflearn.DNN(network, tensorboard_dir='log')\n",
    "print('okey')"
   ]
  },
  {
   "cell_type": "code",
   "execution_count": 5,
   "metadata": {},
   "outputs": [],
   "source": [
    "import numpy as np\n",
    "X=np.array([i[0] for i in train_data]).reshape(-1,IMG_SIZE, IMG_SIZE,1)\n",
    "Y=[i[1] for i in train_data]\n",
    "\n",
    "Y= np.reshape(Y,(-1,1))\n",
    "\n",
    "\n",
    "X_test = np.array([i[0] for i in test_data]).reshape(-1,IMG_SIZE, IMG_SIZE,1)\n",
    "Y_test = [i[1] for i in test_data]\n",
    "Y_test = np.reshape(Y_test, (-1, 1))\n"
   ]
  },
  {
   "cell_type": "code",
   "execution_count": 9,
   "metadata": {},
   "outputs": [
    {
     "name": "stdout",
     "output_type": "stream",
     "text": [
      "Training Step: 2029  | total loss: \u001b[1m\u001b[32m0.50269\u001b[0m\u001b[0m | time: 6843.588s\n",
      "| Adam | epoch: 010 | loss: 0.50269 - binary_acc: 0.4973 -- iter: 20200/20236\n",
      "Training Step: 2030  | total loss: \u001b[1m\u001b[32m0.50342\u001b[0m\u001b[0m | time: 6878.511s\n",
      "| Adam | epoch: 010 | loss: 0.50342 - binary_acc: 0.4966 | val_loss: 0.00000 - val_acc: 1.0000 -- iter: 20236/20236\n",
      "--\n"
     ]
    }
   ],
   "source": [
    "history=model.fit(X,Y, n_epoch=10, batch_size=100, validation_set=0.0001, snapshot_step=None,\n",
    "         show_metric=True, run_id=cat_dog)"
   ]
  },
  {
   "cell_type": "code",
   "execution_count": 23,
   "metadata": {},
   "outputs": [],
   "source": [
    "model = DNN(network, tensorboard_verbose=3)"
   ]
  },
  {
   "cell_type": "code",
   "execution_count": null,
   "metadata": {},
   "outputs": [],
   "source": []
  },
  {
   "cell_type": "code",
   "execution_count": 5,
   "metadata": {},
   "outputs": [
    {
     "name": "stdout",
     "output_type": "stream",
     "text": [
      "TensorFlow installation not found - running with reduced feature set.\n",
      "Serving TensorBoard on localhost; to expose to the network, use a proxy or pass --bind_all\n",
      "TensorBoard 2.0.2 at http://localhost:6006/ (Press CTRL+C to quit)\n",
      "^C\n"
     ]
    }
   ],
   "source": [
    "!tensorboard --logdir='log/dogsvscats-0.01-2conv-basic.model'"
   ]
  },
  {
   "cell_type": "code",
   "execution_count": null,
   "metadata": {},
   "outputs": [],
   "source": []
  },
  {
   "cell_type": "code",
   "execution_count": null,
   "metadata": {},
   "outputs": [],
   "source": []
  },
  {
   "cell_type": "code",
   "execution_count": 7,
   "metadata": {},
   "outputs": [],
   "source": []
  },
  {
   "cell_type": "code",
   "execution_count": null,
   "metadata": {},
   "outputs": [],
   "source": []
  },
  {
   "cell_type": "code",
   "execution_count": null,
   "metadata": {},
   "outputs": [],
   "source": []
  },
  {
   "cell_type": "code",
   "execution_count": null,
   "metadata": {},
   "outputs": [],
   "source": []
  },
  {
   "cell_type": "code",
   "execution_count": null,
   "metadata": {},
   "outputs": [],
   "source": [
    "\n"
   ]
  },
  {
   "cell_type": "code",
   "execution_count": null,
   "metadata": {},
   "outputs": [],
   "source": []
  },
  {
   "cell_type": "code",
   "execution_count": null,
   "metadata": {},
   "outputs": [],
   "source": []
  },
  {
   "cell_type": "code",
   "execution_count": null,
   "metadata": {},
   "outputs": [],
   "source": []
  }
 ],
 "metadata": {
  "kernelspec": {
   "display_name": "Python 3",
   "language": "python",
   "name": "python3"
  },
  "language_info": {
   "codemirror_mode": {
    "name": "ipython",
    "version": 3
   },
   "file_extension": ".py",
   "mimetype": "text/x-python",
   "name": "python",
   "nbconvert_exporter": "python",
   "pygments_lexer": "ipython3",
   "version": "3.6.9"
  }
 },
 "nbformat": 4,
 "nbformat_minor": 4
}
